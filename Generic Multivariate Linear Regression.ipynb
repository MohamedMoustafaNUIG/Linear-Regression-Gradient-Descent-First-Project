{
 "cells": [
  {
   "cell_type": "code",
   "execution_count": 4,
   "metadata": {},
   "outputs": [
    {
     "data": {
      "text/plain": [
       "'\\nCost function: Squared Mean Error\\nOptimization Method: BatchGradient Descent\\n'"
      ]
     },
     "execution_count": 4,
     "metadata": {},
     "output_type": "execute_result"
    }
   ],
   "source": [
    "\"\"\"\n",
    "@author: Mohamad\n",
    "\"\"\"\n",
    "\n",
    "'''\n",
    "Cost function: Squared Mean Error\n",
    "Optimization Method: BatchGradient Descent\n",
    "'''"
   ]
  },
  {
   "cell_type": "code",
   "execution_count": 1,
   "metadata": {},
   "outputs": [],
   "source": [
    "import pandas as pd\n",
    "import numpy as np"
   ]
  },
  {
   "cell_type": "code",
   "execution_count": 2,
   "metadata": {},
   "outputs": [],
   "source": [
    "#enter column names if any\n",
    "cols = [\"sepalLength\",\"sepalWidth\",\"petalLength\",\"petalWidth\"]\n",
    "\n",
    "#Read entire file\n",
    "data = pd.read_csv(\"input.csv\", header=None, names=cols)"
   ]
  },
  {
   "cell_type": "code",
   "execution_count": 3,
   "metadata": {},
   "outputs": [
    {
     "data": {
      "text/plain": [
       "(50, 4)"
      ]
     },
     "execution_count": 3,
     "metadata": {},
     "output_type": "execute_result"
    }
   ],
   "source": [
    "data.shape"
   ]
  },
  {
   "cell_type": "code",
   "execution_count": 30,
   "metadata": {},
   "outputs": [
    {
     "data": {
      "text/plain": [
       "sepalLength    5.1\n",
       "sepalWidth     3.5\n",
       "petalLength    1.4\n",
       "petalWidth     0.2\n",
       "Name: 0, dtype: float64"
      ]
     },
     "execution_count": 30,
     "metadata": {},
     "output_type": "execute_result"
    }
   ],
   "source": [
    "data.iloc[0]"
   ]
  },
  {
   "cell_type": "code",
   "execution_count": 32,
   "metadata": {},
   "outputs": [],
   "source": [
    "def data_prep(X):#minmax normalization\n",
    "    for i in range(len(X)):\n",
    "        mn = data.iloc[i].min()\n",
    "        mx = data.iloc[i].max()\n",
    "        diff = mx-mn\n",
    "        X.at[i]=(data.iloc[i]-mn)/diff\n",
    "    return X"
   ]
  },
  {
   "cell_type": "code",
   "execution_count": 33,
   "metadata": {},
   "outputs": [],
   "source": [
    "data = data_prep(data)"
   ]
  },
  {
   "cell_type": "code",
   "execution_count": 34,
   "metadata": {},
   "outputs": [],
   "source": [
    "#Squared mean error function partial derivative\n",
    "def partialDerivative(train_data, theta, x):\n",
    "    multBy=1.0/train_data.shape[0]\n",
    "    total=temp=0\n",
    "    for i in range(0, train_data.shape[0]):\n",
    "        temp+=theta[0]\n",
    "        for j in range(1, train_data.shape[1]):\n",
    "            temp+=theta[j]*train_data.iloc[j,1]\n",
    "        temp-=train_data.iloc[i,0]\n",
    "        if(x==0):\n",
    "            temp=temp\n",
    "        else:\n",
    "            temp=temp*train_data.iloc[i,x]\n",
    "        total+=temp\n",
    "        temp=0\n",
    "    total=total*multBy\n",
    "    return total"
   ]
  },
  {
   "cell_type": "code",
   "execution_count": 35,
   "metadata": {},
   "outputs": [],
   "source": [
    "#Gradient descent function\n",
    "def gradientDescent(train_data, alpha = 0.15, tol = 1e-9, max_iter = 20000):\n",
    "    theta=[0] * train_data.shape[1]\n",
    "    thetaAfter=[1]* train_data.shape[1]\n",
    "    \n",
    "    diffs = []\n",
    "    \n",
    "    for i in range(train_data.shape[1]):\n",
    "        diffs.append(abs(theta[i] - thetaAfter[i]))\n",
    "    \n",
    "    counter = -1\n",
    "    while(all(i > tol for i in diffs) and counter<max_iter):\n",
    "        counter+=1\n",
    "        #Simultaneously adjust all parameters\n",
    "        for i in range(train_data.shape[1]):\n",
    "            theta[i]=thetaAfter[i]\n",
    "        \n",
    "        #Calculate new parameters\n",
    "        for i in range(train_data.shape[1]):\n",
    "            thetaAfter[i]=theta[i]-(alpha*partialDerivative(train_data, theta, i))\n",
    "        \n",
    "        for i in range(train_data.shape[1]):\n",
    "            diffs[i] = abs(theta[i] - thetaAfter[i])\n",
    "        '''\n",
    "        if counter%100 == 0:\n",
    "            #To observe convergence and adjust step(alpha)\n",
    "            for i in range(train_data.shape[1]):\n",
    "                print(partialDerivative(train_data, theta, i))\n",
    "        '''\n",
    "    return theta"
   ]
  },
  {
   "cell_type": "code",
   "execution_count": 36,
   "metadata": {},
   "outputs": [],
   "source": [
    "import math"
   ]
  },
  {
   "cell_type": "code",
   "execution_count": 37,
   "metadata": {},
   "outputs": [],
   "source": [
    "#Test trained model on last 10 tuples\n",
    "def testModel(theta, test_data):\n",
    "    total=0.0\n",
    "    for i in range(test_data.shape[0]):\n",
    "        prediction=theta[0]\n",
    "        for j in range(1, len(theta)):\n",
    "            prediction+=(theta[j]*test_data.iloc[i,j])\n",
    "        \n",
    "        total+=(prediction - test_data.iloc[i,0])**2\n",
    "\n",
    "    return math.sqrt(total/(test_data.shape[0]))"
   ]
  },
  {
   "cell_type": "code",
   "execution_count": 38,
   "metadata": {},
   "outputs": [],
   "source": [
    "#Program Start\n",
    "model = gradientDescent(data[0:40])"
   ]
  },
  {
   "cell_type": "code",
   "execution_count": 39,
   "metadata": {},
   "outputs": [
    {
     "name": "stdout",
     "output_type": "stream",
     "text": [
      "[1, 1, 1, 1]\n"
     ]
    }
   ],
   "source": [
    "print(model)"
   ]
  },
  {
   "cell_type": "code",
   "execution_count": 40,
   "metadata": {},
   "outputs": [
    {
     "name": "stdout",
     "output_type": "stream",
     "text": [
      "accuracy = 0.925855\n"
     ]
    }
   ],
   "source": [
    "print(\"accuracy = %f\"%testModel(model, data[0:40]))"
   ]
  },
  {
   "cell_type": "code",
   "execution_count": 41,
   "metadata": {},
   "outputs": [
    {
     "name": "stdout",
     "output_type": "stream",
     "text": [
      "accuracy = 0.921307\n"
     ]
    }
   ],
   "source": [
    "print(\"accuracy = %f\"%testModel(model, data[40:50]))"
   ]
  },
  {
   "cell_type": "code",
   "execution_count": null,
   "metadata": {},
   "outputs": [],
   "source": []
  }
 ],
 "metadata": {
  "kernelspec": {
   "display_name": "Python 3",
   "language": "python",
   "name": "python3"
  },
  "language_info": {
   "codemirror_mode": {
    "name": "ipython",
    "version": 3
   },
   "file_extension": ".py",
   "mimetype": "text/x-python",
   "name": "python",
   "nbconvert_exporter": "python",
   "pygments_lexer": "ipython3",
   "version": "3.7.9"
  }
 },
 "nbformat": 4,
 "nbformat_minor": 4
}
